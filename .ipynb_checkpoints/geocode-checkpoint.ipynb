{
 "cells": [
  {
   "cell_type": "code",
   "execution_count": null,
   "metadata": {},
   "outputs": [],
   "source": [
    "import pandas as pd\n",
    "import requests\n",
    "import time\n",
    "import math\n",
    "from tqdm import tqdm\n",
    "import json\n"
   ]
  },
  {
   "cell_type": "code",
   "execution_count": null,
   "metadata": {},
   "outputs": [],
   "source": [
    "pd.read_csv('data.csv',sep=',')"
   ]
  },
  {
   "cell_type": "code",
   "execution_count": null,
   "metadata": {},
   "outputs": [],
   "source": [
    "haystack = pd.read_csv('data.csv',sep='\\t')\n",
    "url = \"https://us1.locationiq.com/v1/search.php\"\n",
    "for index, row in tqdm(haystack.iterrows(), total=haystack.shape[0]):\n",
    "    if math.isnan(row[\"LAT\"]):\n",
    "        if isinstance(row[\"GEMEINDE\"], str):\n",
    "            gemeinde = row[\"GEMEINDE\"]\n",
    "        else:\n",
    "            gemeinde = \"\"\n",
    "        \n",
    "        if isinstance(row[\"BUNDESLAND\"], str):\n",
    "            bundesland = row[\"BUNDESLAND\"]\n",
    "        else:\n",
    "            bundesland = \"\"\n",
    "            \n",
    "            \n",
    "        string = row[\"ORTSTEIL\"] + \", \" + gemeinde + \", \" + bundesland\n",
    "        data = {\n",
    "            'key': '515bdd429c0187',\n",
    "            #'key': '7696fd7058c78f', #locationIQ3\n",
    "            #'key': 'b5512061d8d7d0', #locationIQ2\n",
    "            #'key': '3b49986d3d6190', #locationIQ1\n",
    "            'q': string,\n",
    "            'format': 'json',\n",
    "            'countrycodes': 'de',\n",
    "            'limit': 1\n",
    "        }\n",
    "        response = requests.get(url, params=data)\n",
    "        json_data = json.loads(response.text)\n",
    "        #print(json_data)\n",
    "        if isinstance(json_data, list):\n",
    "            haystack.at[index,\"LAT\"] = json_data[0][\"lat\"]\n",
    "            haystack.at[index,\"LON\"] = json_data[0][\"lon\"]\n",
    "        else:\n",
    "            haystack.at[index,\"LAT\"] = 999\n",
    "            print(json_data)\n",
    "        time.sleep(1.1)\n",
    "haystack.to_csv(r'data.csv', index = False)"
   ]
  },
  {
   "cell_type": "code",
   "execution_count": null,
   "metadata": {},
   "outputs": [],
   "source": [
    "haystack.to_csv(r'new3.csv', index = False)"
   ]
  },
  {
   "cell_type": "code",
   "execution_count": null,
   "metadata": {},
   "outputs": [],
   "source": []
  }
 ],
 "metadata": {
  "kernelspec": {
   "display_name": "Python 3",
   "language": "python",
   "name": "python3"
  },
  "language_info": {
   "codemirror_mode": {
    "name": "ipython",
    "version": 3
   },
   "file_extension": ".py",
   "mimetype": "text/x-python",
   "name": "python",
   "nbconvert_exporter": "python",
   "pygments_lexer": "ipython3",
   "version": "3.6.5"
  }
 },
 "nbformat": 4,
 "nbformat_minor": 2
}
